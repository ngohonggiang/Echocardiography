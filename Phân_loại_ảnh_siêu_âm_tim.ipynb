{
  "nbformat": 4,
  "nbformat_minor": 0,
  "metadata": {
    "accelerator": "GPU",
    "colab": {
      "name": "Phân_loại_ảnh_siêu_âm_tim.ipynb",
      "provenance": [],
      "collapsed_sections": [],
      "authorship_tag": "ABX9TyMbJDRCIsKYt8/dKBdOPB/F",
      "include_colab_link": true
    },
    "kernelspec": {
      "display_name": "Python 3",
      "name": "python3"
    },
    "language_info": {
      "name": "python"
    }
  },
  "cells": [
    {
      "cell_type": "markdown",
      "metadata": {
        "id": "view-in-github",
        "colab_type": "text"
      },
      "source": [
        "<a href=\"https://colab.research.google.com/github/ngohonggiang/Echocardiography/blob/main/Ph%C3%A2n_lo%E1%BA%A1i_%E1%BA%A3nh_si%C3%AAu_%C3%A2m_tim.ipynb\" target=\"_parent\"><img src=\"https://colab.research.google.com/assets/colab-badge.svg\" alt=\"Open In Colab\"/></a>"
      ]
    },
    {
      "cell_type": "code",
      "metadata": {
        "id": "swZdFcJr7rsx"
      },
      "source": [
        "import torch\n",
        "from torch import nn\n",
        "from torch.utils.data import DataLoader\n",
        "import cv2\n",
        "import numpy as np\n",
        "import torchvision\n",
        "from torchvision import transforms\n",
        "import matplotlib.pyplot as plt\n",
        "from collections import namedtuple\n",
        "from sklearn.metrics import classification_report"
      ],
      "execution_count": 1,
      "outputs": []
    },
    {
      "cell_type": "code",
      "metadata": {
        "colab": {
          "base_uri": "https://localhost:8080/"
        },
        "id": "w6ts0P599avt",
        "outputId": "cb22809f-38a3-4764-bf69-e55df1205951"
      },
      "source": [
        "!git clone https://github.com/ngohonggiang/Echocardiography.git"
      ],
      "execution_count": 2,
      "outputs": [
        {
          "output_type": "stream",
          "name": "stdout",
          "text": [
            "Cloning into 'Echocardiography'...\n",
            "remote: Enumerating objects: 8332, done.\u001b[K\n",
            "remote: Counting objects: 100% (8332/8332), done.\u001b[K\n",
            "remote: Compressing objects: 100% (8329/8329), done.\u001b[K\n",
            "remote: Total 8332 (delta 3), reused 8328 (delta 2), pack-reused 0\n",
            "Receiving objects: 100% (8332/8332), 488.02 MiB | 26.85 MiB/s, done.\n",
            "Resolving deltas: 100% (3/3), done.\n",
            "Checking out files: 100% (8327/8327), done.\n"
          ]
        }
      ]
    },
    {
      "cell_type": "code",
      "metadata": {
        "id": "BlmhwobpMLqa"
      },
      "source": [
        "TrainTest = namedtuple('TrainTest', ['train', 'test'])\n",
        "\n",
        "def get_classes():\n",
        "  classes = ['2C', '3C', '4C']\n",
        "  return classes\n",
        "\n",
        "def prepare_data():\n",
        "  size = 224\n",
        "  transform_train = transforms.Compose([\n",
        "    transforms.Resize((size, size)),\n",
        "    transforms.ToTensor()\n",
        "  ])\n",
        "  transform_test = transforms.Compose([\n",
        "    transforms.Resize((size, size)),                                 \n",
        "    transforms.ToTensor()\n",
        "  ])\n",
        "  trainset = torchvision.datasets.ImageFolder(\n",
        "      root='/content/Echocardiography/DATA_CHAMBER_2021/train', transform=transform_train)\n",
        "  testset = torchvision.datasets.ImageFolder(\n",
        "      root='/content/Echocardiography/DATA_CHAMBER_2021/test', transform=transform_test)\n",
        "  return TrainTest(train=trainset, test=testset)\n",
        "\n",
        "def prepare_loader(datasets):\n",
        "  batch_size = 32\n",
        "  trainloader = DataLoader(dataset=datasets.train, batch_size=batch_size, shuffle=True, num_workers=2)\n",
        "  testloader = DataLoader(dataset=datasets.test, batch_size=batch_size, shuffle=False, num_workers=2)\n",
        "  return TrainTest(train=trainloader, test=testloader)\n"
      ],
      "execution_count": 11,
      "outputs": []
    },
    {
      "cell_type": "code",
      "metadata": {
        "id": "Yf04d5HtRr5q"
      },
      "source": [
        "def train_epoch(epoch, model, loader, loss_func, optimizer, device):\n",
        "  model.train()\n",
        "  running_loss = 0.0\n",
        "  reporting_step = 40\n",
        "  for i, (images, labels) in enumerate(loader):\n",
        "    images, labels = images.to(device), labels.to(device)\n",
        "    \n",
        "    outputs = model(images)\n",
        "    loss = loss_func(outputs, labels)\n",
        "    \n",
        "    optimizer.zero_grad()\n",
        "    loss.backward()\n",
        "    optimizer.step()\n",
        "        \n",
        "    running_loss += loss.item()\n",
        "    if i % reporting_step == reporting_step - 1:\n",
        "        print(f\"Epoch {epoch} Step {i} ave_loss {running_loss/reporting_step:0.4f}\")\n",
        "        running_loss = 0.0\n",
        "\n",
        "def test_epoch(epoch, model, loader, device):\n",
        "  pred = []\n",
        "  true = []\n",
        "  with torch.no_grad():\n",
        "    model.eval()\n",
        "    for i, (images, labels) in enumerate(loader):\n",
        "      images, labels = images.to(device), labels.to(device)\n",
        "\n",
        "      outputs = model(images)\n",
        "      _, predicted = torch.max(outputs, dim=1)\n",
        "      pred += list(predicted.cpu().numpy())\n",
        "      true += list(labels.cpu().numpy())\n",
        "  return pred, true"
      ],
      "execution_count": 12,
      "outputs": []
    },
    {
      "cell_type": "code",
      "metadata": {
        "id": "Uf8D9zexVB_6"
      },
      "source": [
        "def main(model=None):\n",
        "  classes = get_classes()\n",
        "  datasets = prepare_data()\n",
        "  loaders = prepare_loader(datasets)\n",
        "  device = torch.device(\"cuda:0\" if torch.cuda.is_available() else \"cpu\")\n",
        "  print(device)\n",
        "\n",
        "  if model == 'vgg16':\n",
        "    PATH = './vgg16.pth'\n",
        "    model = torchvision.models.vgg16()\n",
        "    model.classifier[6] = torch.nn.modules.Linear(in_features=4096, out_features=3)\n",
        "  elif model == 'vgg19':\n",
        "    PATH = './vgg19.pth'\n",
        "    model = torchvision.models.vgg19()\n",
        "    model.classifier[6] = torch.nn.modules.Linear(in_features=4096, out_features=3)\n",
        "  elif model == 'resnet50':\n",
        "    PATH = './resnet50.pth'\n",
        "    model = torchvision.models.resnet50()\n",
        "    model.fc = torch.nn.modules.Linear(in_features=2048, out_features=3)\n",
        "\n",
        "  model.to(device)\n",
        "  loss_function = nn.CrossEntropyLoss()\n",
        "  optimizer = torch.optim.SGD(model.parameters(), lr=0.01, momentum=0.9, weight_decay=5e-4)\n",
        "\n",
        "  for epoch in range(8):\n",
        "    train_epoch(epoch, model, loaders.train, loss_function, optimizer, device)\n",
        "    pred, true = test_epoch(epoch, model, loaders.test, device)\n",
        "    print(classification_report(true, pred, target_names=classes))  \n",
        "    print(\"---------------------------------------------------------------\")      \n",
        "\n",
        "    torch.save(model.state_dict(), PATH)\n",
        "  return model"
      ],
      "execution_count": 13,
      "outputs": []
    },
    {
      "cell_type": "code",
      "metadata": {
        "id": "8eTqXVgbQ7pv",
        "colab": {
          "base_uri": "https://localhost:8080/"
        },
        "outputId": "a509165b-fcff-4667-d481-84494ed784cd"
      },
      "source": [
        "modelVGG16 = main(model='vgg16')"
      ],
      "execution_count": 14,
      "outputs": [
        {
          "output_type": "stream",
          "name": "stdout",
          "text": [
            "cuda:0\n",
            "Epoch 0 Step 39 ave_loss 1.0948\n",
            "Epoch 0 Step 79 ave_loss 1.0031\n",
            "Epoch 0 Step 119 ave_loss 0.9704\n",
            "Epoch 0 Step 159 ave_loss 0.6134\n",
            "Epoch 0 Step 199 ave_loss 0.3671\n",
            "              precision    recall  f1-score   support\n",
            "\n",
            "          2C       0.49      0.86      0.62       409\n",
            "          3C       0.73      0.90      0.81       367\n",
            "          4C       1.00      0.52      0.69       831\n",
            "\n",
            "    accuracy                           0.69      1607\n",
            "   macro avg       0.74      0.76      0.71      1607\n",
            "weighted avg       0.81      0.69      0.70      1607\n",
            "\n",
            "---------------------------------------------------------------\n",
            "Epoch 1 Step 39 ave_loss 0.3008\n",
            "Epoch 1 Step 79 ave_loss 0.1591\n",
            "Epoch 1 Step 119 ave_loss 0.1438\n",
            "Epoch 1 Step 159 ave_loss 0.0927\n",
            "Epoch 1 Step 199 ave_loss 0.1411\n",
            "              precision    recall  f1-score   support\n",
            "\n",
            "          2C       0.91      0.97      0.94       409\n",
            "          3C       0.89      0.94      0.92       367\n",
            "          4C       1.00      0.94      0.97       831\n",
            "\n",
            "    accuracy                           0.95      1607\n",
            "   macro avg       0.93      0.95      0.94      1607\n",
            "weighted avg       0.95      0.95      0.95      1607\n",
            "\n",
            "---------------------------------------------------------------\n",
            "Epoch 2 Step 39 ave_loss 0.0557\n",
            "Epoch 2 Step 79 ave_loss 0.0237\n",
            "Epoch 2 Step 119 ave_loss 0.0285\n",
            "Epoch 2 Step 159 ave_loss 0.0097\n",
            "Epoch 2 Step 199 ave_loss 0.0154\n",
            "              precision    recall  f1-score   support\n",
            "\n",
            "          2C       0.56      0.93      0.70       409\n",
            "          3C       0.89      0.95      0.92       367\n",
            "          4C       1.00      0.65      0.79       831\n",
            "\n",
            "    accuracy                           0.79      1607\n",
            "   macro avg       0.82      0.84      0.80      1607\n",
            "weighted avg       0.86      0.79      0.79      1607\n",
            "\n",
            "---------------------------------------------------------------\n",
            "Epoch 3 Step 39 ave_loss 0.0237\n",
            "Epoch 3 Step 79 ave_loss 0.0580\n",
            "Epoch 3 Step 119 ave_loss 0.0402\n",
            "Epoch 3 Step 159 ave_loss 0.0730\n",
            "Epoch 3 Step 199 ave_loss 0.0288\n",
            "              precision    recall  f1-score   support\n",
            "\n",
            "          2C       0.72      1.00      0.84       409\n",
            "          3C       0.95      0.85      0.90       367\n",
            "          4C       1.00      0.85      0.92       831\n",
            "\n",
            "    accuracy                           0.89      1607\n",
            "   macro avg       0.89      0.90      0.89      1607\n",
            "weighted avg       0.92      0.89      0.89      1607\n",
            "\n",
            "---------------------------------------------------------------\n",
            "Epoch 4 Step 39 ave_loss 0.0485\n",
            "Epoch 4 Step 79 ave_loss 0.0329\n",
            "Epoch 4 Step 119 ave_loss 0.0175\n",
            "Epoch 4 Step 159 ave_loss 0.0482\n",
            "Epoch 4 Step 199 ave_loss 0.0306\n",
            "              precision    recall  f1-score   support\n",
            "\n",
            "          2C       0.89      0.94      0.91       409\n",
            "          3C       0.86      0.88      0.87       367\n",
            "          4C       1.00      0.96      0.98       831\n",
            "\n",
            "    accuracy                           0.94      1607\n",
            "   macro avg       0.92      0.93      0.92      1607\n",
            "weighted avg       0.94      0.94      0.94      1607\n",
            "\n",
            "---------------------------------------------------------------\n",
            "Epoch 5 Step 39 ave_loss 0.0054\n",
            "Epoch 5 Step 79 ave_loss 0.0062\n",
            "Epoch 5 Step 119 ave_loss 0.0015\n",
            "Epoch 5 Step 159 ave_loss 0.0005\n",
            "Epoch 5 Step 199 ave_loss 0.0001\n",
            "              precision    recall  f1-score   support\n",
            "\n",
            "          2C       0.93      0.99      0.96       409\n",
            "          3C       0.82      0.94      0.88       367\n",
            "          4C       1.00      0.90      0.95       831\n",
            "\n",
            "    accuracy                           0.93      1607\n",
            "   macro avg       0.92      0.94      0.93      1607\n",
            "weighted avg       0.94      0.93      0.93      1607\n",
            "\n",
            "---------------------------------------------------------------\n",
            "Epoch 6 Step 39 ave_loss 0.0002\n",
            "Epoch 6 Step 79 ave_loss 0.0008\n",
            "Epoch 6 Step 119 ave_loss 0.0002\n",
            "Epoch 6 Step 159 ave_loss 0.0208\n",
            "Epoch 6 Step 199 ave_loss 0.0028\n",
            "              precision    recall  f1-score   support\n",
            "\n",
            "          2C       0.96      0.99      0.97       409\n",
            "          3C       0.98      0.97      0.98       367\n",
            "          4C       1.00      0.99      0.99       831\n",
            "\n",
            "    accuracy                           0.98      1607\n",
            "   macro avg       0.98      0.98      0.98      1607\n",
            "weighted avg       0.98      0.98      0.98      1607\n",
            "\n",
            "---------------------------------------------------------------\n",
            "Epoch 7 Step 39 ave_loss 0.0128\n",
            "Epoch 7 Step 79 ave_loss 0.0023\n",
            "Epoch 7 Step 119 ave_loss 0.0008\n",
            "Epoch 7 Step 159 ave_loss 0.0000\n",
            "Epoch 7 Step 199 ave_loss 0.0003\n",
            "              precision    recall  f1-score   support\n",
            "\n",
            "          2C       0.91      1.00      0.95       409\n",
            "          3C       0.95      0.97      0.96       367\n",
            "          4C       1.00      0.94      0.97       831\n",
            "\n",
            "    accuracy                           0.96      1607\n",
            "   macro avg       0.95      0.97      0.96      1607\n",
            "weighted avg       0.97      0.96      0.96      1607\n",
            "\n",
            "---------------------------------------------------------------\n"
          ]
        }
      ]
    }
  ]
}