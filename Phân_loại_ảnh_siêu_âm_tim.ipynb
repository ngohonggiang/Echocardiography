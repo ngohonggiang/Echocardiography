{
  "nbformat": 4,
  "nbformat_minor": 0,
  "metadata": {
    "colab": {
      "name": "Phân_loại_ảnh_siêu_âm_tim.ipynb",
      "provenance": [],
      "collapsed_sections": [],
      "authorship_tag": "ABX9TyO2cpdErNYPBHCXBo5YEqX9",
      "include_colab_link": true
    },
    "kernelspec": {
      "name": "python3",
      "display_name": "Python 3"
    },
    "language_info": {
      "name": "python"
    },
    "accelerator": "GPU"
  },
  "cells": [
    {
      "cell_type": "markdown",
      "metadata": {
        "id": "view-in-github",
        "colab_type": "text"
      },
      "source": [
        "<a href=\"https://colab.research.google.com/github/ngohonggiang/Echocardiography/blob/main/Ph%C3%A2n_lo%E1%BA%A1i_%E1%BA%A3nh_si%C3%AAu_%C3%A2m_tim.ipynb\" target=\"_parent\"><img src=\"https://colab.research.google.com/assets/colab-badge.svg\" alt=\"Open In Colab\"/></a>"
      ]
    },
    {
      "cell_type": "code",
      "metadata": {
        "id": "swZdFcJr7rsx"
      },
      "source": [
        "import torch\n",
        "from torch import nn\n",
        "from torch.utils.data import DataLoader\n",
        "import cv2\n",
        "import numpy as np\n",
        "import torchvision\n",
        "from torchvision import transforms\n",
        "import matplotlib.pyplot as plt\n",
        "from collections import namedtuple\n",
        "from sklearn.metrics import classification_report"
      ],
      "execution_count": 3,
      "outputs": []
    },
    {
      "cell_type": "code",
      "metadata": {
        "id": "w6ts0P599avt",
        "colab": {
          "base_uri": "https://localhost:8080/"
        },
        "outputId": "ad402e80-12ea-48d5-9a85-629cbd3a8200"
      },
      "source": [
        "!git clone https://github.com/ngohonggiang/Echocardiography.git"
      ],
      "execution_count": 2,
      "outputs": [
        {
          "output_type": "stream",
          "name": "stdout",
          "text": [
            "Cloning into 'Echocardiography'...\n",
            "remote: Enumerating objects: 8328, done.\u001b[K\n",
            "remote: Counting objects: 100% (8328/8328), done.\u001b[K\n",
            "remote: Compressing objects: 100% (8325/8325), done.\u001b[K\n",
            "remote: Total 8328 (delta 2), reused 8328 (delta 2), pack-reused 0\u001b[K\n",
            "Receiving objects: 100% (8328/8328), 488.02 MiB | 30.62 MiB/s, done.\n",
            "Resolving deltas: 100% (2/2), done.\n",
            "Checking out files: 100% (8327/8327), done.\n"
          ]
        }
      ]
    },
    {
      "cell_type": "code",
      "metadata": {
        "id": "BlmhwobpMLqa"
      },
      "source": [
        "TrainTest = namedtuple('TrainTest', ['train', 'test'])\n",
        "\n",
        "def get_classes():\n",
        "  classes = ['2C', '3C', '4C']\n",
        "  return classes\n",
        "\n",
        "def prepare_data():\n",
        "  transform_train = transforms.Compose([\n",
        "    transforms.Resize((224, 224)),\n",
        "    transforms.ToTensor()\n",
        "  ])\n",
        "  transform_test = transforms.Compose([\n",
        "    transforms.Resize((224, 224)),                                 \n",
        "    transforms.ToTensor()\n",
        "  ])\n",
        "  trainset = torchvision.datasets.ImageFolder(\n",
        "      root='/content/Echocardiography/DATA_CHAMBER_2021/train', transform=transform_train)\n",
        "  testset = torchvision.datasets.ImageFolder(\n",
        "      root='/content/Echocardiography/DATA_CHAMBER_2021/test', transform=transform_test)\n",
        "  return TrainTest(train=trainset, test=testset)\n",
        "\n",
        "def prepare_loader(datasets):\n",
        "  batch_size = 32\n",
        "  trainloader = DataLoader(dataset=datasets.train, batch_size=batch_size, shuffle=True, num_workers=2)\n",
        "  testloader = DataLoader(dataset=datasets.test, batch_size=batch_size, shuffle=False, num_workers=2)\n",
        "  return TrainTest(train=trainloader, test=testloader)\n"
      ],
      "execution_count": 9,
      "outputs": []
    },
    {
      "cell_type": "code",
      "metadata": {
        "id": "Yf04d5HtRr5q"
      },
      "source": [
        "def train_epoch(epoch, model, loader, loss_func, optimizer, device):\n",
        "  model.train()\n",
        "  running_loss = 0.0\n",
        "  reporting_step = 40\n",
        "  for i, (images, labels) in enumerate(loader):\n",
        "    images, labels = images.to(device), labels.to(device)\n",
        "    \n",
        "    outputs = model(images)\n",
        "    loss = loss_func(outputs, labels)\n",
        "    \n",
        "    optimizer.zero_grad()\n",
        "    loss.backward()\n",
        "    optimizer.step()\n",
        "        \n",
        "    running_loss += loss.item()\n",
        "    if i % reporting_step == reporting_step - 1:\n",
        "        print(f\"Epoch {epoch} Step {i} ave_loss {running_loss/reporting_step:0.4f}\")\n",
        "        running_loss = 0.0\n",
        "\n",
        "def test_epoch(epoch, model, loader, device):\n",
        "  pred = []\n",
        "  true = []\n",
        "  with torch.no_grad():\n",
        "    model.eval()\n",
        "    for i, (images, labels) in enumerate(loader):\n",
        "      images, labels = images.to(device), labels.to(device)\n",
        "\n",
        "      outputs = model(images)\n",
        "      _, predicted = torch.max(outputs, dim=1)\n",
        "      pred += list(predicted.cpu().numpy())\n",
        "      true += list(labels.cpu().numpy())\n",
        "  return pred, true"
      ],
      "execution_count": 10,
      "outputs": []
    },
    {
      "cell_type": "code",
      "metadata": {
        "id": "Uf8D9zexVB_6"
      },
      "source": [
        "def main(model=None):\n",
        "  classes = get_classes()\n",
        "  datasets = prepare_data()\n",
        "  loaders = prepare_loader(datasets)\n",
        "  device = torch.device(\"cuda:0\" if torch.cuda.is_available() else \"cpu\")\n",
        "  print(device)\n",
        "\n",
        "  if model == 'vgg16':\n",
        "    PATH = './vgg16.pth'\n",
        "    model = torchvision.models.vgg16()\n",
        "    model.classifier[6] = torch.nn.modules.Linear(in_features=4096, out_features=3)\n",
        "  elif model == 'vgg19':\n",
        "    PATH = './vgg19.pth'\n",
        "    model = torchvision.models.vgg19()\n",
        "    model.classifier[6] = torch.nn.modules.Linear(in_features=4096, out_features=3)\n",
        "  elif model == 'resnet50':\n",
        "    PATH = './resnet50.pth'\n",
        "    model = torchvision.models.resnet50()\n",
        "    model.fc = torch.nn.modules.Linear(in_features=2048, out_features=3)\n",
        "\n",
        "  model.to(device)\n",
        "  loss_function = nn.CrossEntropyLoss()\n",
        "  optimizer = torch.optim.SGD(model.parameters(), lr=0.01, momentum=0.9, weight_decay=5e-4)\n",
        "\n",
        "  for epoch in range(10):\n",
        "    train_epoch(epoch, model, loaders.train, loss_function, optimizer, device)\n",
        "    pred, true = test_epoch(epoch, model, loaders.test, device)\n",
        "    print(classification_report(true, pred, target_names=classes))  \n",
        "    print(\"---------------------------------------------------------------\")      \n",
        "  return model"
      ],
      "execution_count": 11,
      "outputs": []
    },
    {
      "cell_type": "code",
      "metadata": {
        "colab": {
          "base_uri": "https://localhost:8080/"
        },
        "id": "Tk0MqB4dWthP",
        "outputId": "5fedd1b9-b430-49e9-a70a-cd52a4931675"
      },
      "source": [
        "modelVGG16 = main(model='vgg16')"
      ],
      "execution_count": 12,
      "outputs": [
        {
          "output_type": "stream",
          "name": "stdout",
          "text": [
            "cuda:0\n"
          ]
        },
        {
          "output_type": "stream",
          "name": "stderr",
          "text": [
            "/usr/local/lib/python3.7/dist-packages/torch/nn/functional.py:718: UserWarning: Named tensors and all their associated APIs are an experimental feature and subject to change. Please do not use them for anything important until they are released as stable. (Triggered internally at  /pytorch/c10/core/TensorImpl.h:1156.)\n",
            "  return torch.max_pool2d(input, kernel_size, stride, padding, dilation, ceil_mode)\n"
          ]
        },
        {
          "output_type": "stream",
          "name": "stdout",
          "text": [
            "Epoch 0 Step 39 ave_loss 1.0807\n",
            "Epoch 0 Step 79 ave_loss 0.9928\n",
            "Epoch 0 Step 119 ave_loss 0.6752\n",
            "Epoch 0 Step 159 ave_loss 0.3973\n",
            "Epoch 0 Step 199 ave_loss 0.2100\n",
            "              precision    recall  f1-score   support\n",
            "\n",
            "          2C       0.80      0.87      0.83       409\n",
            "          3C       0.84      0.83      0.83       367\n",
            "          4C       1.00      0.97      0.98       831\n",
            "\n",
            "    accuracy                           0.91      1607\n",
            "   macro avg       0.88      0.89      0.88      1607\n",
            "weighted avg       0.91      0.91      0.91      1607\n",
            "\n",
            "---------------------------------------------------------------\n",
            "Epoch 1 Step 39 ave_loss 0.2263\n",
            "Epoch 1 Step 79 ave_loss 0.1955\n",
            "Epoch 1 Step 119 ave_loss 0.1148\n",
            "Epoch 1 Step 159 ave_loss 0.0514\n",
            "Epoch 1 Step 199 ave_loss 0.0647\n",
            "              precision    recall  f1-score   support\n",
            "\n",
            "          2C       0.86      0.93      0.89       409\n",
            "          3C       0.78      0.96      0.86       367\n",
            "          4C       1.00      0.85      0.92       831\n",
            "\n",
            "    accuracy                           0.90      1607\n",
            "   macro avg       0.88      0.92      0.89      1607\n",
            "weighted avg       0.91      0.90      0.90      1607\n",
            "\n",
            "---------------------------------------------------------------\n",
            "Epoch 2 Step 39 ave_loss 0.0506\n",
            "Epoch 2 Step 79 ave_loss 0.0374\n",
            "Epoch 2 Step 119 ave_loss 0.0251\n",
            "Epoch 2 Step 159 ave_loss 0.0105\n",
            "Epoch 2 Step 199 ave_loss 0.0173\n",
            "              precision    recall  f1-score   support\n",
            "\n",
            "          2C       0.83      0.93      0.88       409\n",
            "          3C       0.83      0.98      0.90       367\n",
            "          4C       0.99      0.85      0.92       831\n",
            "\n",
            "    accuracy                           0.90      1607\n",
            "   macro avg       0.88      0.92      0.90      1607\n",
            "weighted avg       0.91      0.90      0.90      1607\n",
            "\n",
            "---------------------------------------------------------------\n",
            "Epoch 3 Step 39 ave_loss 0.0211\n",
            "Epoch 3 Step 79 ave_loss 0.0057\n",
            "Epoch 3 Step 119 ave_loss 0.0007\n",
            "Epoch 3 Step 159 ave_loss 0.0001\n",
            "Epoch 3 Step 199 ave_loss 0.0011\n",
            "              precision    recall  f1-score   support\n",
            "\n",
            "          2C       0.66      0.92      0.77       409\n",
            "          3C       0.74      0.80      0.77       367\n",
            "          4C       0.99      0.76      0.86       831\n",
            "\n",
            "    accuracy                           0.81      1607\n",
            "   macro avg       0.80      0.83      0.80      1607\n",
            "weighted avg       0.85      0.81      0.81      1607\n",
            "\n",
            "---------------------------------------------------------------\n",
            "Epoch 4 Step 39 ave_loss 0.0256\n",
            "Epoch 4 Step 79 ave_loss 0.0008\n",
            "Epoch 4 Step 119 ave_loss 0.0156\n",
            "Epoch 4 Step 159 ave_loss 0.0165\n",
            "Epoch 4 Step 199 ave_loss 0.0177\n",
            "              precision    recall  f1-score   support\n",
            "\n",
            "          2C       0.66      0.95      0.78       409\n",
            "          3C       0.71      0.94      0.81       367\n",
            "          4C       1.00      0.65      0.79       831\n",
            "\n",
            "    accuracy                           0.79      1607\n",
            "   macro avg       0.79      0.85      0.79      1607\n",
            "weighted avg       0.85      0.79      0.79      1607\n",
            "\n",
            "---------------------------------------------------------------\n",
            "Epoch 5 Step 39 ave_loss 0.0331\n",
            "Epoch 5 Step 79 ave_loss 0.0065\n",
            "Epoch 5 Step 119 ave_loss 0.0026\n",
            "Epoch 5 Step 159 ave_loss 0.0017\n",
            "Epoch 5 Step 199 ave_loss 0.0004\n",
            "              precision    recall  f1-score   support\n",
            "\n",
            "          2C       0.92      0.93      0.93       409\n",
            "          3C       0.78      0.96      0.86       367\n",
            "          4C       1.00      0.89      0.94       831\n",
            "\n",
            "    accuracy                           0.92      1607\n",
            "   macro avg       0.90      0.93      0.91      1607\n",
            "weighted avg       0.93      0.92      0.92      1607\n",
            "\n",
            "---------------------------------------------------------------\n",
            "Epoch 6 Step 39 ave_loss 0.0004\n",
            "Epoch 6 Step 79 ave_loss 0.0049\n",
            "Epoch 6 Step 119 ave_loss 0.0004\n",
            "Epoch 6 Step 159 ave_loss 0.0001\n",
            "Epoch 6 Step 199 ave_loss 0.0001\n",
            "              precision    recall  f1-score   support\n",
            "\n",
            "          2C       0.79      0.95      0.86       409\n",
            "          3C       0.75      0.98      0.85       367\n",
            "          4C       1.00      0.77      0.87       831\n",
            "\n",
            "    accuracy                           0.86      1607\n",
            "   macro avg       0.85      0.90      0.86      1607\n",
            "weighted avg       0.89      0.86      0.86      1607\n",
            "\n",
            "---------------------------------------------------------------\n",
            "Epoch 7 Step 39 ave_loss 0.0000\n",
            "Epoch 7 Step 79 ave_loss 0.0000\n",
            "Epoch 7 Step 119 ave_loss 0.0000\n",
            "Epoch 7 Step 159 ave_loss 0.0000\n",
            "Epoch 7 Step 199 ave_loss 0.0003\n",
            "              precision    recall  f1-score   support\n",
            "\n",
            "          2C       0.74      0.97      0.84       409\n",
            "          3C       0.77      0.97      0.86       367\n",
            "          4C       1.00      0.74      0.85       831\n",
            "\n",
            "    accuracy                           0.85      1607\n",
            "   macro avg       0.84      0.89      0.85      1607\n",
            "weighted avg       0.88      0.85      0.85      1607\n",
            "\n",
            "---------------------------------------------------------------\n",
            "Epoch 8 Step 39 ave_loss 0.0000\n",
            "Epoch 8 Step 79 ave_loss 0.0000\n",
            "Epoch 8 Step 119 ave_loss 0.0000\n",
            "Epoch 8 Step 159 ave_loss 0.0000\n",
            "Epoch 8 Step 199 ave_loss 0.0000\n",
            "              precision    recall  f1-score   support\n",
            "\n",
            "          2C       0.83      0.95      0.88       409\n",
            "          3C       0.77      0.97      0.86       367\n",
            "          4C       1.00      0.82      0.90       831\n",
            "\n",
            "    accuracy                           0.88      1607\n",
            "   macro avg       0.87      0.91      0.88      1607\n",
            "weighted avg       0.90      0.88      0.89      1607\n",
            "\n",
            "---------------------------------------------------------------\n",
            "Epoch 9 Step 39 ave_loss 0.0000\n",
            "Epoch 9 Step 79 ave_loss 0.0001\n",
            "Epoch 9 Step 119 ave_loss 0.0000\n",
            "Epoch 9 Step 159 ave_loss 0.0001\n",
            "Epoch 9 Step 199 ave_loss 0.0000\n",
            "              precision    recall  f1-score   support\n",
            "\n",
            "          2C       0.89      0.95      0.92       409\n",
            "          3C       0.83      0.97      0.90       367\n",
            "          4C       1.00      0.89      0.94       831\n",
            "\n",
            "    accuracy                           0.93      1607\n",
            "   macro avg       0.91      0.94      0.92      1607\n",
            "weighted avg       0.93      0.93      0.93      1607\n",
            "\n",
            "---------------------------------------------------------------\n"
          ]
        }
      ]
    },
    {
      "cell_type": "code",
      "metadata": {
        "id": "grfaP8Il3kD9"
      },
      "source": [
        ""
      ],
      "execution_count": null,
      "outputs": []
    }
  ]
}