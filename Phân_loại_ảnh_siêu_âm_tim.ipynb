{
  "nbformat": 4,
  "nbformat_minor": 0,
  "metadata": {
    "accelerator": "GPU",
    "colab": {
      "name": "Phân_loại_ảnh_siêu_âm_tim.ipynb",
      "provenance": [],
      "collapsed_sections": [],
      "include_colab_link": true
    },
    "kernelspec": {
      "display_name": "Python 3",
      "name": "python3"
    },
    "language_info": {
      "name": "python"
    }
  },
  "cells": [
    {
      "cell_type": "markdown",
      "metadata": {
        "id": "view-in-github",
        "colab_type": "text"
      },
      "source": [
        "<a href=\"https://colab.research.google.com/github/ngohonggiang/Echocardiography/blob/main/Ph%C3%A2n_lo%E1%BA%A1i_%E1%BA%A3nh_si%C3%AAu_%C3%A2m_tim.ipynb\" target=\"_parent\"><img src=\"https://colab.research.google.com/assets/colab-badge.svg\" alt=\"Open In Colab\"/></a>"
      ]
    },
    {
      "cell_type": "code",
      "metadata": {
        "id": "swZdFcJr7rsx"
      },
      "source": [
        "import torch\n",
        "from torch import nn\n",
        "from torch.utils.data import DataLoader\n",
        "import cv2\n",
        "import numpy as np\n",
        "import torchvision\n",
        "from torchvision import transforms\n",
        "import matplotlib.pyplot as plt\n",
        "from collections import namedtuple\n",
        "from sklearn.metrics import classification_report"
      ],
      "execution_count": null,
      "outputs": []
    },
    {
      "cell_type": "code",
      "metadata": {
        "colab": {
          "base_uri": "https://localhost:8080/"
        },
        "id": "w6ts0P599avt",
        "outputId": "c16cb263-1a3f-4088-d6fa-4993b76e3551"
      },
      "source": [
        "!git clone https://github.com/ngohonggiang/Echocardiography.git"
      ],
      "execution_count": null,
      "outputs": [
        {
          "output_type": "stream",
          "name": "stdout",
          "text": [
            "Cloning into 'Echocardiography'...\n",
            "remote: Enumerating objects: 8335, done.\u001b[K\n",
            "remote: Counting objects: 100% (7/7), done.\u001b[K\n",
            "remote: Compressing objects: 100% (5/5), done.\u001b[K\n",
            "remote: Total 8335 (delta 2), reused 7 (delta 2), pack-reused 8328\u001b[K\n",
            "Receiving objects: 100% (8335/8335), 488.02 MiB | 30.63 MiB/s, done.\n",
            "Resolving deltas: 100% (4/4), done.\n",
            "Checking out files: 100% (8328/8328), done.\n"
          ]
        }
      ]
    },
    {
      "cell_type": "code",
      "metadata": {
        "id": "BlmhwobpMLqa"
      },
      "source": [
        "TrainTest = namedtuple('TrainTest', ['train', 'test'])\n",
        "\n",
        "def get_classes():\n",
        "  classes = ['2C', '3C', '4C']\n",
        "  return classes\n",
        "\n",
        "def prepare_data():\n",
        "  size = 224\n",
        "  # raw\n",
        "  transform_train_raw = transforms.Compose([\n",
        "    transforms.Resize((size, size)),\n",
        "    transforms.ToTensor()\n",
        "  ])\n",
        "\n",
        "  # preprocess\n",
        "  transform_train_preprocess = transforms.Compose([\n",
        "    transforms.Resize((size, size)),\n",
        "    transforms.GaussianBlur(3),\n",
        "    transforms.RandomRotation(2.8),\n",
        "    #transforms.Normalize((0.485, 0.456, 0.406), (0.229, 0.224, 0.225)),\n",
        "    transforms.ToTensor()\n",
        "  ])\n",
        "\n",
        "  # augmentation\n",
        "  transform_train_augmentation = transforms.Compose([\n",
        "    transforms.Resize((size, size)),\n",
        "    transforms.RandomCrop(size, padding=4),\n",
        "    transforms.RandomHorizontalFlip(),\n",
        "    transforms.ColorJitter(brightness=0.3, contrast=0.1),\n",
        "    transforms.ToTensor()\n",
        "  ])\n",
        "\n",
        "  # test\n",
        "  transform_test = transforms.Compose([\n",
        "    transforms.Resize((size, size)),                                 \n",
        "    transforms.ToTensor()\n",
        "  ])\n",
        "\n",
        "  trainset = torchvision.datasets.ImageFolder(\n",
        "      root='/content/Echocardiography/DATA_CHAMBER_2021/train', transform=transform_train_augmentation)\n",
        "  testset = torchvision.datasets.ImageFolder(\n",
        "      root='/content/Echocardiography/DATA_CHAMBER_2021/test', transform=transform_test)\n",
        "  return TrainTest(train=trainset, test=testset)\n",
        "\n",
        "def prepare_loader(datasets):\n",
        "  batch_size = 32\n",
        "  trainloader = DataLoader(dataset=datasets.train, batch_size=batch_size, shuffle=True, num_workers=2)\n",
        "  testloader = DataLoader(dataset=datasets.test, batch_size=batch_size, shuffle=False, num_workers=2)\n",
        "  return TrainTest(train=trainloader, test=testloader)\n"
      ],
      "execution_count": null,
      "outputs": []
    },
    {
      "cell_type": "code",
      "metadata": {
        "id": "Yf04d5HtRr5q"
      },
      "source": [
        "def train_epoch(epoch, model, loader, loss_func, optimizer, device):\n",
        "  model.train()\n",
        "  running_loss = 0.0\n",
        "  reporting_step = 40\n",
        "  for i, (images, labels) in enumerate(loader):\n",
        "    images, labels = images.to(device), labels.to(device)\n",
        "    \n",
        "    outputs = model(images)\n",
        "    loss = loss_func(outputs, labels)\n",
        "    \n",
        "    optimizer.zero_grad()\n",
        "    loss.backward()\n",
        "    optimizer.step()\n",
        "        \n",
        "    running_loss += loss.item()\n",
        "    if i % reporting_step == reporting_step - 1:\n",
        "        print(f\"Epoch {epoch} Step {i} ave_loss {running_loss/reporting_step:0.4f}\")\n",
        "        running_loss = 0.0\n",
        "\n",
        "def test_epoch(epoch, model, loader, device):\n",
        "  pred = []\n",
        "  true = []\n",
        "  with torch.no_grad():\n",
        "    model.eval()\n",
        "    for i, (images, labels) in enumerate(loader):\n",
        "      images, labels = images.to(device), labels.to(device)\n",
        "\n",
        "      outputs = model(images)\n",
        "      _, predicted = torch.max(outputs, dim=1)\n",
        "      pred += list(predicted.cpu().numpy())\n",
        "      true += list(labels.cpu().numpy())\n",
        "  return pred, true"
      ],
      "execution_count": null,
      "outputs": []
    },
    {
      "cell_type": "code",
      "metadata": {
        "id": "Uf8D9zexVB_6"
      },
      "source": [
        "def main(model=None):\n",
        "  classes = get_classes()\n",
        "  datasets = prepare_data()\n",
        "  loaders = prepare_loader(datasets)\n",
        "  device = torch.device(\"cuda:0\" if torch.cuda.is_available() else \"cpu\")\n",
        "  print(device)\n",
        "\n",
        "  if model == 'vgg16':\n",
        "    PATH = './vgg16.pth'\n",
        "    model = torchvision.models.vgg16()\n",
        "    model.classifier[6] = torch.nn.modules.Linear(in_features=4096, out_features=3)\n",
        "  elif model == 'vgg19':\n",
        "    PATH = './vgg19.pth'\n",
        "    model = torchvision.models.vgg19()\n",
        "    model.classifier[6] = torch.nn.modules.Linear(in_features=4096, out_features=3)\n",
        "  elif model == 'resnet50':\n",
        "    PATH = './resnet50.pth'\n",
        "    model = torchvision.models.resnet50()\n",
        "    model.fc = torch.nn.modules.Linear(in_features=2048, out_features=3)\n",
        "\n",
        "  model.to(device)\n",
        "  loss_function = nn.CrossEntropyLoss()\n",
        "  optimizer = torch.optim.SGD(model.parameters(), lr=0.01, momentum=0.9, weight_decay=5e-4)\n",
        "\n",
        "  for epoch in range(10):\n",
        "    train_epoch(epoch, model, loaders.train, loss_function, optimizer, device)\n",
        "    pred, true = test_epoch(epoch, model, loaders.test, device)\n",
        "    print(classification_report(true, pred, target_names=classes))  \n",
        "    print(\"---------------------------------------------------------------\")      \n",
        "\n",
        "    torch.save(model.state_dict(), PATH)\n",
        "  return model"
      ],
      "execution_count": null,
      "outputs": []
    },
    {
      "cell_type": "code",
      "metadata": {
        "id": "8eTqXVgbQ7pv"
      },
      "source": [
        "modelVGG16 = main(model='vgg16')"
      ],
      "execution_count": null,
      "outputs": []
    },
    {
      "cell_type": "code",
      "metadata": {
        "id": "6ZFk5k1XzHmc"
      },
      "source": [
        "modelVGG19 = main(model='vgg19')"
      ],
      "execution_count": null,
      "outputs": []
    },
    {
      "cell_type": "code",
      "metadata": {
        "id": "xWShWiKGzMzV"
      },
      "source": [
        "modelResNet50 = main(model='resnet50')"
      ],
      "execution_count": null,
      "outputs": []
    },
    {
      "cell_type": "code",
      "metadata": {
        "id": "dVuqNSpXr7IQ"
      },
      "source": [
        ""
      ],
      "execution_count": null,
      "outputs": []
    }
  ]
}